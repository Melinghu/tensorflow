{
 "cells": [
  {
   "cell_type": "code",
   "execution_count": 3,
   "metadata": {
    "collapsed": true
   },
   "outputs": [],
   "source": [
    "import tensorflow as tf\n",
    "from tensorflow.examples.tutorials.mnist import input_data"
   ]
  },
  {
   "cell_type": "code",
   "execution_count": 5,
   "metadata": {
    "scrolled": false
   },
   "outputs": [
    {
     "name": "stdout",
     "output_type": "stream",
     "text": [
      "Extracting MNIST_data\\train-images-idx3-ubyte.gz\n",
      "Extracting MNIST_data\\train-labels-idx1-ubyte.gz\n",
      "Extracting MNIST_data\\t10k-images-idx3-ubyte.gz\n",
      "Extracting MNIST_data\\t10k-labels-idx1-ubyte.gz\n",
      "Iter 0Testing Accuracy 0.2019Training Accuracy 0.202618\n",
      "Iter 1Testing Accuracy 0.5684Training Accuracy 0.566836\n",
      "Iter 2Testing Accuracy 0.6638Training Accuracy 0.662127\n",
      "Iter 3Testing Accuracy 0.7224Training Accuracy 0.722964\n",
      "Iter 4Testing Accuracy 0.8935Training Accuracy 0.888309\n",
      "Iter 5Testing Accuracy 0.9087Training Accuracy 0.907982\n",
      "Iter 6Testing Accuracy 0.9155Training Accuracy 0.917327\n",
      "Iter 7Testing Accuracy 0.9237Training Accuracy 0.927164\n",
      "Iter 8Testing Accuracy 0.9295Training Accuracy 0.934182\n",
      "Iter 9Testing Accuracy 0.9285Training Accuracy 0.934873\n",
      "Iter 10Testing Accuracy 0.9304Training Accuracy 0.935782\n",
      "Iter 11Testing Accuracy 0.9329Training Accuracy 0.943309\n",
      "Iter 12Testing Accuracy 0.9332Training Accuracy 0.9438\n",
      "Iter 13Testing Accuracy 0.9352Training Accuracy 0.947618\n",
      "Iter 14Testing Accuracy 0.9389Training Accuracy 0.949073\n",
      "Iter 15Testing Accuracy 0.9392Training Accuracy 0.951036\n",
      "Iter 16Testing Accuracy 0.9411Training Accuracy 0.9534\n",
      "Iter 17Testing Accuracy 0.9392Training Accuracy 0.952636\n",
      "Iter 18Testing Accuracy 0.944Training Accuracy 0.956182\n",
      "Iter 19Testing Accuracy 0.9402Training Accuracy 0.952\n",
      "Iter 20Testing Accuracy 0.9436Training Accuracy 0.957727\n",
      "Iter 21Testing Accuracy 0.9402Training Accuracy 0.952436\n",
      "Iter 22Testing Accuracy 0.9446Training Accuracy 0.9592\n",
      "Iter 23Testing Accuracy 0.9457Training Accuracy 0.959618\n",
      "Iter 24Testing Accuracy 0.9433Training Accuracy 0.957491\n",
      "Iter 25Testing Accuracy 0.9462Training Accuracy 0.962527\n",
      "Iter 26Testing Accuracy 0.9465Training Accuracy 0.963582\n",
      "Iter 27Testing Accuracy 0.9476Training Accuracy 0.964\n",
      "Iter 28Testing Accuracy 0.9435Training Accuracy 0.960873\n",
      "Iter 29Testing Accuracy 0.9481Training Accuracy 0.9648\n",
      "Iter 30Testing Accuracy 0.947Training Accuracy 0.963855\n"
     ]
    }
   ],
   "source": [
    "#可以改变的：代价函数(交叉熵)，优化方式（学习率），batch size 训练次数 单层，初始化神经元\n",
    "# \n",
    "\n",
    "#载入数据集\n",
    "mnist = input_data.read_data_sets(\"MNIST_data\",one_hot = True)\n",
    "\n",
    "#每个批次的大小\n",
    "batch_size = 100\n",
    "#计算一共有多少个批次\n",
    "n_batch = mnist.train.num_examples//batch_size#整除\n",
    "\n",
    "#定义两个placeholder\n",
    "x = tf.placeholder(tf.float32,[None,784])#784是图形的像素数目28*28，将平面图片转化成向量\n",
    "y = tf.placeholder(tf.float32,[None,10])#0~9的标签\n",
    "keep_prob = tf.placeholder(tf.float32)#每次运行激活的神经元比例好像是\n",
    "\n",
    "#创建一个简单的神经网络(好像是单层的)\n",
    "W1 = tf.Variable(tf.truncated_normal([784,20],stddev = 0.1))#初始化为零是不太好，这里换成了阶段的正态分布\n",
    "b1 = tf.Variable(tf.zeros([20])+0.1)\n",
    "L1 = tf.nn.tanh(tf.matmul(x,W1) + b1)\n",
    "L1_drop = tf.nn.dropout(L1,keep_prob)\n",
    "\n",
    "#增加了隐藏层\n",
    "W2 = tf.Variable(tf.truncated_normal([20,20],stddev = 0.1))#初始化为零是不太好，这里换成了阶段的正态分布\n",
    "b2 = tf.Variable(tf.zeros([20])+0.1)\n",
    "L2 = tf.nn.tanh(tf.matmul(L1_drop,W2) + b2)\n",
    "L2_drop = tf.nn.dropout(L2,keep_prob)\n",
    "\n",
    "#增加了隐藏层\n",
    "W3 = tf.Variable(tf.truncated_normal([20,10],stddev = 0.1))#初始化为零是不太好，这里换成了阶段的正态分布\n",
    "b3 = tf.Variable(tf.zeros([10])+0.1)\n",
    "L3 = tf.nn.tanh(tf.matmul(L2_drop,W3) + b3)\n",
    "L3_drop = tf.nn.dropout(L3,keep_prob)\n",
    "\n",
    "#增加了隐藏层\n",
    "W4 = tf.Variable(tf.truncated_normal([10,10],stddev = 0.1))#初始化为零是不太好，这里换成了阶段的正态分布\n",
    "b4 = tf.Variable(tf.zeros([10])+0.1)\n",
    "prediction = tf.nn.softmax(tf.matmul(L3_drop,W4) + b4)\n",
    "\n",
    "#增加隐藏层\n",
    "\n",
    "\n",
    "#二次代价函数\n",
    "# loss = tf.reduce_mean(tf.square(y-prediction))\n",
    "loss = tf.reduce_mean(tf.nn.softmax_cross_entropy_with_logits(labels = y,logits = prediction))\n",
    "#梯度下降法\n",
    "train_step = tf.train.GradientDescentOptimizer(0.2).minimize(loss)\n",
    "\n",
    "#初始化\n",
    "init = tf.global_variables_initializer()\n",
    "\n",
    "#结果存放在布尔型列表中\n",
    "correct_prediction = tf.equal(tf.argmax(y,1),tf.argmax(prediction,1))#标签和预测值里面的最大值是不是相同的\n",
    "\n",
    "#求准确率\n",
    "accuracy = tf.reduce_mean(tf.cast(correct_prediction,tf.float32))\n",
    "\n",
    "with tf.Session() as sess:\n",
    "    sess.run(init)\n",
    "    for epoch in range(31):\n",
    "        for batch in range(n_batch):\n",
    "            batch_xs,batch_ys = mnist.train.next_batch(batch_size)\n",
    "            sess.run(train_step,feed_dict = {x:batch_xs,y:batch_ys,keep_prob:1})\n",
    "        \n",
    "        test_acc = sess.run(accuracy,feed_dict = {x:mnist.test.images,y:mnist.test.labels,keep_prob:1.0})\n",
    "        train_acc = sess.run(accuracy,feed_dict = {x:mnist.train.images,y:mnist.train.labels,keep_prob:1.0})\n",
    "        print(\"Iter \" + str(epoch) + \"Testing Accuracy \" + str(test_acc) + \"Training Accuracy \" + str(train_acc))"
   ]
  },
  {
   "cell_type": "code",
   "execution_count": null,
   "metadata": {
    "collapsed": true
   },
   "outputs": [],
   "source": []
  }
 ],
 "metadata": {
  "kernelspec": {
   "display_name": "Python 3",
   "language": "python",
   "name": "python3"
  },
  "language_info": {
   "codemirror_mode": {
    "name": "ipython",
    "version": 3
   },
   "file_extension": ".py",
   "mimetype": "text/x-python",
   "name": "python",
   "nbconvert_exporter": "python",
   "pygments_lexer": "ipython3",
   "version": "3.6.2"
  }
 },
 "nbformat": 4,
 "nbformat_minor": 2
}
