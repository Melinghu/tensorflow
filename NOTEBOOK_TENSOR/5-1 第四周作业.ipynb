{
 "cells": [
  {
   "cell_type": "code",
   "execution_count": 2,
   "metadata": {
    "collapsed": true
   },
   "outputs": [],
   "source": [
    "import tensorflow as tf\n",
    "from tensorflow.examples.tutorials.mnist import input_data"
   ]
  },
  {
   "cell_type": "code",
   "execution_count": null,
   "metadata": {
    "scrolled": false
   },
   "outputs": [
    {
     "name": "stdout",
     "output_type": "stream",
     "text": [
      "Extracting MNIST_data\\train-images-idx3-ubyte.gz\n",
      "Extracting MNIST_data\\train-labels-idx1-ubyte.gz\n",
      "Extracting MNIST_data\\t10k-images-idx3-ubyte.gz\n",
      "Extracting MNIST_data\\t10k-labels-idx1-ubyte.gz\n",
      "Iter 0, Testing Accuracy 0.9487, Training Accuracy 0.951327, Learning Rate = 0.001\n",
      "Iter 1, Testing Accuracy 0.9608, Training Accuracy 0.966145, Learning Rate = 0.00095\n",
      "Iter 2, Testing Accuracy 0.9666, Training Accuracy 0.974182, Learning Rate = 0.0009025\n",
      "Iter 3, Testing Accuracy 0.9719, Training Accuracy 0.979273, Learning Rate = 0.000857375\n",
      "Iter 4, Testing Accuracy 0.9687, Training Accuracy 0.978655, Learning Rate = 0.000814506\n",
      "Iter 5, Testing Accuracy 0.9745, Training Accuracy 0.985291, Learning Rate = 0.000773781\n",
      "Iter 6, Testing Accuracy 0.9734, Training Accuracy 0.9854, Learning Rate = 0.000735092\n",
      "Iter 7, Testing Accuracy 0.9733, Training Accuracy 0.986636, Learning Rate = 0.000698337\n",
      "Iter 8, Testing Accuracy 0.9761, Training Accuracy 0.988945, Learning Rate = 0.00066342\n",
      "Iter 9, Testing Accuracy 0.9736, Training Accuracy 0.988491, Learning Rate = 0.000630249\n",
      "Iter 10, Testing Accuracy 0.9762, Training Accuracy 0.990636, Learning Rate = 0.000598737\n",
      "Iter 11, Testing Accuracy 0.9743, Training Accuracy 0.990764, Learning Rate = 0.0005688\n",
      "Iter 12, Testing Accuracy 0.9754, Training Accuracy 0.992473, Learning Rate = 0.00054036\n",
      "Iter 13, Testing Accuracy 0.9756, Training Accuracy 0.991309, Learning Rate = 0.000513342\n",
      "Iter 14, Testing Accuracy 0.978, Training Accuracy 0.993745, Learning Rate = 0.000487675\n",
      "Iter 15, Testing Accuracy 0.9773, Training Accuracy 0.993836, Learning Rate = 0.000463291\n",
      "Iter 16, Testing Accuracy 0.9786, Training Accuracy 0.994473, Learning Rate = 0.000440127\n",
      "Iter 17, Testing Accuracy 0.9779, Training Accuracy 0.994691, Learning Rate = 0.00041812\n",
      "Iter 18, Testing Accuracy 0.9792, Training Accuracy 0.995236, Learning Rate = 0.000397214\n",
      "Iter 19, Testing Accuracy 0.978, Training Accuracy 0.994545, Learning Rate = 0.000377354\n",
      "Iter 20, Testing Accuracy 0.9786, Training Accuracy 0.995073, Learning Rate = 0.000358486\n",
      "Iter 21, Testing Accuracy 0.9792, Training Accuracy 0.995636, Learning Rate = 0.000340562\n",
      "Iter 22, Testing Accuracy 0.9805, Training Accuracy 0.995455, Learning Rate = 0.000323534\n",
      "Iter 23, Testing Accuracy 0.9779, Training Accuracy 0.995436, Learning Rate = 0.000307357\n",
      "Iter 24, Testing Accuracy 0.9803, Training Accuracy 0.995818, Learning Rate = 0.000291989\n",
      "Iter 25, Testing Accuracy 0.9812, Training Accuracy 0.995945, Learning Rate = 0.00027739\n",
      "Iter 26, Testing Accuracy 0.9794, Training Accuracy 0.995727, Learning Rate = 0.00026352\n",
      "Iter 27, Testing Accuracy 0.9788, Training Accuracy 0.996036, Learning Rate = 0.000250344\n",
      "Iter 28, Testing Accuracy 0.9807, Training Accuracy 0.996218, Learning Rate = 0.000237827\n"
     ]
    }
   ],
   "source": [
    "#可以改变的：代价函数(交叉熵)，优化方式（学习率），batch size 训练次数 单层，初始化神经元\n",
    "# \n",
    "\n",
    "#载入数据集\n",
    "mnist = input_data.read_data_sets(\"MNIST_data\",one_hot = True)\n",
    "\n",
    "#每个批次的大小\n",
    "batch_size = 100\n",
    "#计算一共有多少个批次\n",
    "n_batch = mnist.train.num_examples//batch_size#整除\n",
    "\n",
    "#定义两个placeholder\n",
    "x = tf.placeholder(tf.float32,[None,784])#784是图形的像素数目28*28，将平面图片转化成向量\n",
    "y = tf.placeholder(tf.float32,[None,10])#0~9的标签\n",
    "keep_prob = tf.placeholder(tf.float32)#每次运行激活的神经元比例好像是\n",
    "lr = tf.Variable(0.001, dtype = tf.float32)\n",
    "\n",
    "#创建一个简单的神经网络(好像是单层的)\n",
    "W1 = tf.Variable(tf.truncated_normal([784,500],stddev = 0.1))#初始化为零是不太好，这里换成了阶段的正态分布\n",
    "b1 = tf.Variable(tf.zeros([500])+0.1)\n",
    "L1 = tf.nn.tanh(tf.matmul(x,W1) + b1)\n",
    "L1_drop = tf.nn.dropout(L1,keep_prob)\n",
    "\n",
    "#增加了隐藏层\n",
    "W2 = tf.Variable(tf.truncated_normal([500,300],stddev = 0.1))#初始化为零是不太好，这里换成了阶段的正态分布\n",
    "b2 = tf.Variable(tf.zeros([300])+0.1)\n",
    "L2 = tf.nn.tanh(tf.matmul(L1_drop,W2) + b2)\n",
    "L2_drop = tf.nn.dropout(L2,keep_prob)\n",
    "\n",
    "#增加了隐藏层\n",
    "W3 = tf.Variable(tf.truncated_normal([300,10],stddev = 0.1))#初始化为零是不太好，这里换成了阶段的正态分布\n",
    "b3 = tf.Variable(tf.zeros([10])+0.1)\n",
    "L3 = tf.nn.tanh(tf.matmul(L2_drop,W3) + b3)\n",
    "L3_drop = tf.nn.dropout(L3,keep_prob)\n",
    "\n",
    "#增加了隐藏层\n",
    "W4 = tf.Variable(tf.truncated_normal([10,10],stddev = 0.1))#初始化为零是不太好，这里换成了阶段的正态分布\n",
    "b4 = tf.Variable(tf.zeros([10])+0.1)\n",
    "prediction = tf.nn.softmax(tf.matmul(L3_drop,W4) + b4)\n",
    "\n",
    "#增加隐藏层\n",
    "\n",
    "\n",
    "#交叉熵代价函数\n",
    "loss = tf.reduce_mean(tf.nn.softmax_cross_entropy_with_logits(labels = y,logits = prediction))\n",
    "#梯度下降法\n",
    "train_step = tf.train.AdamOptimizer(lr).minimize(loss)\n",
    "\n",
    "#初始化\n",
    "init = tf.global_variables_initializer()\n",
    "\n",
    "#结果存放在布尔型列表中\n",
    "correct_prediction = tf.equal(tf.argmax(y,1),tf.argmax(prediction,1))#标签和预测值里面的最大值是不是相同的\n",
    "\n",
    "#求准确率\n",
    "accuracy = tf.reduce_mean(tf.cast(correct_prediction,tf.float32))\n",
    "\n",
    "with tf.Session() as sess:\n",
    "    sess.run(init)\n",
    "    for epoch in range(31):\n",
    "        sess.run(tf.assign(lr, 0.001 * (0.95**epoch)))\n",
    "        for batch in range(n_batch):\n",
    "            batch_xs,batch_ys = mnist.train.next_batch(batch_size)\n",
    "            sess.run(train_step,feed_dict = {x:batch_xs,y:batch_ys,keep_prob:1})\n",
    "        \n",
    "        learning_rate = sess.run(lr)\n",
    "        test_acc = sess.run(accuracy,feed_dict = {x:mnist.test.images,y:mnist.test.labels,keep_prob:1.0})\n",
    "        train_acc = sess.run(accuracy,feed_dict = {x:mnist.train.images,y:mnist.train.labels,keep_prob:1.0})\n",
    "        print(\"Iter \" + str(epoch) + \", Testing Accuracy \" + str(test_acc) + \", Training Accuracy \" + str(train_acc) + \", Learning Rate = \"+str(learning_rate))"
   ]
  },
  {
   "cell_type": "code",
   "execution_count": null,
   "metadata": {
    "collapsed": true
   },
   "outputs": [],
   "source": []
  }
 ],
 "metadata": {
  "kernelspec": {
   "display_name": "Python 3",
   "language": "python",
   "name": "python3"
  },
  "language_info": {
   "codemirror_mode": {
    "name": "ipython",
    "version": 3
   },
   "file_extension": ".py",
   "mimetype": "text/x-python",
   "name": "python",
   "nbconvert_exporter": "python",
   "pygments_lexer": "ipython3",
   "version": "3.6.2"
  }
 },
 "nbformat": 4,
 "nbformat_minor": 2
}
