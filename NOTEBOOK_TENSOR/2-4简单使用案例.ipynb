{
 "cells": [
  {
   "cell_type": "code",
   "execution_count": 1,
   "metadata": {
    "collapsed": true
   },
   "outputs": [],
   "source": [
    "import tensorflow as tf\n",
    "import numpy as np"
   ]
  },
  {
   "cell_type": "code",
   "execution_count": 2,
   "metadata": {},
   "outputs": [
    {
     "name": "stdout",
     "output_type": "stream",
     "text": [
      "0 [0.053674307, 0.10002804]\n",
      "20 [0.10329171, 0.19822639]\n",
      "40 [0.1018548, 0.19900066]\n",
      "60 [0.10104513, 0.1994369]\n",
      "80 [0.1005889, 0.19968271]\n",
      "100 [0.10033182, 0.19982122]\n",
      "120 [0.10018697, 0.19989927]\n",
      "140 [0.10010535, 0.19994324]\n",
      "160 [0.10005937, 0.19996801]\n",
      "180 [0.10003345, 0.19998197]\n",
      "200 [0.10001885, 0.19998984]\n"
     ]
    }
   ],
   "source": [
    "#使用numpy生成一百个随机点\n",
    "x_data = np.random.rand(100)\n",
    "y_data = x_data*0.1 + 0.2\n",
    "\n",
    "#构造一个线性模型\n",
    "b = tf.Variable(0.)#表示浮点型\n",
    "k = tf.Variable(0.)#表示浮点型初始值\n",
    "y = k * x_data + b\n",
    "\n",
    "#二次代价函数\n",
    "loss = tf.reduce_mean(tf.square(y_data - y))\n",
    "#定一个梯度下降法来进行训练的优化器\n",
    "\n",
    "optimizer = tf.train.GradientDescentOptimizer(0.2)#学习率\n",
    "#定一个最小化代价函数\n",
    "train = optimizer.minimize(loss)\n",
    "\n",
    "#变量用到就要初始化\n",
    "init = tf.global_variables_initializer()\n",
    "\n",
    "with tf.Session() as sess:\n",
    "    sess.run(init)\n",
    "    for step in range(201):\n",
    "        sess.run(train)\n",
    "        if step%20 == 0:\n",
    "            print(step,sess.run([k,b])) "
   ]
  },
  {
   "cell_type": "code",
   "execution_count": null,
   "metadata": {
    "collapsed": true
   },
   "outputs": [],
   "source": []
  }
 ],
 "metadata": {
  "kernelspec": {
   "display_name": "Python 3",
   "language": "python",
   "name": "python3"
  },
  "language_info": {
   "codemirror_mode": {
    "name": "ipython",
    "version": 3
   },
   "file_extension": ".py",
   "mimetype": "text/x-python",
   "name": "python",
   "nbconvert_exporter": "python",
   "pygments_lexer": "ipython3",
   "version": "3.6.2"
  }
 },
 "nbformat": 4,
 "nbformat_minor": 2
}
