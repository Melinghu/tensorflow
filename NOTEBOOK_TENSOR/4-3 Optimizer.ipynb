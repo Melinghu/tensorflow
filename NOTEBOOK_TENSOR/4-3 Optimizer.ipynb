{
 "cells": [
  {
   "cell_type": "code",
   "execution_count": 2,
   "metadata": {},
   "outputs": [],
   "source": [
    "import tensorflow as tf\n",
    "from tensorflow.examples.tutorials.mnist import input_data"
   ]
  },
  {
   "cell_type": "code",
   "execution_count": 3,
   "metadata": {},
   "outputs": [
    {
     "name": "stdout",
     "output_type": "stream",
     "text": [
      "Extracting MNIST_data\\train-images-idx3-ubyte.gz\n",
      "Extracting MNIST_data\\train-labels-idx1-ubyte.gz\n",
      "Extracting MNIST_data\\t10k-images-idx3-ubyte.gz\n",
      "Extracting MNIST_data\\t10k-labels-idx1-ubyte.gz\n",
      "Iter 0Testing Accuracy 0.9171\n",
      "Iter 1Testing Accuracy 0.9244\n",
      "Iter 2Testing Accuracy 0.9259\n",
      "Iter 3Testing Accuracy 0.9294\n",
      "Iter 4Testing Accuracy 0.9313\n",
      "Iter 5Testing Accuracy 0.9302\n",
      "Iter 6Testing Accuracy 0.9311\n",
      "Iter 7Testing Accuracy 0.9304\n",
      "Iter 8Testing Accuracy 0.9305\n",
      "Iter 9Testing Accuracy 0.9313\n",
      "Iter 10Testing Accuracy 0.9296\n",
      "Iter 11Testing Accuracy 0.9306\n",
      "Iter 12Testing Accuracy 0.9323\n",
      "Iter 13Testing Accuracy 0.9317\n",
      "Iter 14Testing Accuracy 0.9303\n",
      "Iter 15Testing Accuracy 0.9281\n",
      "Iter 16Testing Accuracy 0.9321\n",
      "Iter 17Testing Accuracy 0.9312\n",
      "Iter 18Testing Accuracy 0.9288\n",
      "Iter 19Testing Accuracy 0.9313\n",
      "Iter 20Testing Accuracy 0.9316\n"
     ]
    }
   ],
   "source": [
    "#可以改变的：代价函数(交叉熵)，优化方式（学习率），batch size 训练次数 单层，初始化神经元\n",
    "# \n",
    "\n",
    "#载入数据集\n",
    "mnist = input_data.read_data_sets(\"MNIST_data\",one_hot = True)\n",
    "\n",
    "#每个批次的大小\n",
    "batch_size = 100\n",
    "#计算一共有多少个批次\n",
    "n_batch = mnist.train.num_examples//batch_size#整除\n",
    "\n",
    "#定义两个placeholder\n",
    "x = tf.placeholder(tf.float32,[None,784])#784是图形的像素数目28*28，将平面图片转化成向量\n",
    "y = tf.placeholder(tf.float32,[None,10])#0~9的标签\n",
    "\n",
    "#创建一个简单的神经网络(好像是单层的)\n",
    "W = tf.Variable(tf.zeros([784,10]))\n",
    "b = tf.Variable(tf.zeros([10]))\n",
    "prediction = tf.nn.softmax(tf.matmul(x,W) + b)\n",
    "\n",
    "#二次代价函数\n",
    "# loss = tf.reduce_mean(tf.square(y-prediction))\n",
    "loss = tf.reduce_mean(tf.nn.softmax_cross_entropy_with_logits(labels = y, logits = prediction))\n",
    "#梯度下降法\n",
    "# train_step = tf.train.GradientDescentOptimizer(0.2).minimize(loss)\n",
    "train_step = tf.train.AdamOptimizer(1e-2).minimize(loss)\n",
    "#初始化\n",
    "init = tf.global_variables_initializer()\n",
    "\n",
    "#结果存放在布尔型列表中\n",
    "correct_prediction = tf.equal(tf.argmax(y,1),tf.argmax(prediction,1))#标签和预测值里面的最大值是不是相同的\n",
    "\n",
    "#求准确率\n",
    "accuracy = tf.reduce_mean(tf.cast(correct_prediction,tf.float32))\n",
    "\n",
    "with tf.Session() as sess:\n",
    "    sess.run(init)\n",
    "    for epoch in range(21):\n",
    "        for batch in range(n_batch):\n",
    "            batch_xs,batch_ys = mnist.train.next_batch(batch_size)\n",
    "            sess.run(train_step,feed_dict = {x:batch_xs,y:batch_ys})\n",
    "        \n",
    "        acc = sess.run(accuracy,feed_dict = {x:mnist.test.images,y:mnist.test.labels})\n",
    "        print(\"Iter \" + str(epoch) + \"Testing Accuracy \" + str(acc))"
   ]
  },
  {
   "cell_type": "code",
   "execution_count": null,
   "metadata": {
    "collapsed": true
   },
   "outputs": [],
   "source": [
    "1+1"
   ]
  },
  {
   "cell_type": "code",
   "execution_count": null,
   "metadata": {
    "collapsed": true
   },
   "outputs": [],
   "source": []
  },
  {
   "cell_type": "code",
   "execution_count": null,
   "metadata": {
    "collapsed": true
   },
   "outputs": [],
   "source": []
  }
 ],
 "metadata": {
  "kernelspec": {
   "display_name": "Python 3",
   "language": "python",
   "name": "python3"
  },
  "language_info": {
   "codemirror_mode": {
    "name": "ipython",
    "version": 3
   },
   "file_extension": ".py",
   "mimetype": "text/x-python",
   "name": "python",
   "nbconvert_exporter": "python",
   "pygments_lexer": "ipython3",
   "version": "3.6.2"
  }
 },
 "nbformat": 4,
 "nbformat_minor": 2
}
